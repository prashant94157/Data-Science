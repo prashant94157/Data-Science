{
 "cells": [
  {
   "cell_type": "code",
   "execution_count": 2,
   "id": "627e792e-8bb9-4c11-a1b9-b8d8a1fc88d0",
   "metadata": {},
   "outputs": [],
   "source": [
    "import numpy as np"
   ]
  },
  {
   "cell_type": "code",
   "execution_count": 3,
   "id": "e9438d8f-1ecc-4d2f-a1ff-d0acb1e417c0",
   "metadata": {},
   "outputs": [
    {
     "data": {
      "text/plain": [
       "array([1, 2, 4, 6])"
      ]
     },
     "execution_count": 3,
     "metadata": {},
     "output_type": "execute_result"
    }
   ],
   "source": [
    "arr1 = np.array([1,2,4,6])\n",
    "arr1"
   ]
  },
  {
   "cell_type": "code",
   "execution_count": 5,
   "id": "13c068bd-22b7-48e3-92dd-0854bc8f7435",
   "metadata": {},
   "outputs": [
    {
     "data": {
      "text/plain": [
       "numpy.ndarray"
      ]
     },
     "execution_count": 5,
     "metadata": {},
     "output_type": "execute_result"
    }
   ],
   "source": [
    "type(arr1)"
   ]
  },
  {
   "cell_type": "code",
   "execution_count": 6,
   "id": "d9812e3b-c090-4d94-a195-78f88d5f3681",
   "metadata": {},
   "outputs": [
    {
     "data": {
      "text/plain": [
       "array([[1, 3, 7],\n",
       "       [5, 9, 7]])"
      ]
     },
     "execution_count": 6,
     "metadata": {},
     "output_type": "execute_result"
    }
   ],
   "source": [
    "arr2 = np.array([[1,3,7],[5,9,7]])\n",
    "arr2"
   ]
  },
  {
   "cell_type": "code",
   "execution_count": 7,
   "id": "74605c0d-6b6c-4e9f-b8f6-e660c516814a",
   "metadata": {},
   "outputs": [
    {
     "data": {
      "text/plain": [
       "numpy.ndarray"
      ]
     },
     "execution_count": 7,
     "metadata": {},
     "output_type": "execute_result"
    }
   ],
   "source": [
    "type(arr2)"
   ]
  },
  {
   "cell_type": "code",
   "execution_count": 9,
   "id": "a573451a-d7fb-48d4-ab23-85c37018f522",
   "metadata": {},
   "outputs": [
    {
     "data": {
      "text/plain": [
       "array([[0., 0., 0., 0., 0.],\n",
       "       [0., 0., 0., 0., 0.]])"
      ]
     },
     "execution_count": 9,
     "metadata": {},
     "output_type": "execute_result"
    }
   ],
   "source": [
    "arr3 = np.zeros((2,5))\n",
    "arr3"
   ]
  },
  {
   "cell_type": "code",
   "execution_count": 11,
   "id": "74cffc54-6479-463a-a375-31dab22f79db",
   "metadata": {},
   "outputs": [
    {
     "data": {
      "text/plain": [
       "array([[1., 1., 1., 1.],\n",
       "       [1., 1., 1., 1.],\n",
       "       [1., 1., 1., 1.]])"
      ]
     },
     "execution_count": 11,
     "metadata": {},
     "output_type": "execute_result"
    }
   ],
   "source": [
    "arr4 = np.ones((3,4))\n",
    "arr4"
   ]
  },
  {
   "cell_type": "code",
   "execution_count": 12,
   "id": "268f0cb7-566e-414d-8285-058e76311a62",
   "metadata": {},
   "outputs": [
    {
     "data": {
      "text/plain": [
       "array([[1., 0., 0., 0., 0.],\n",
       "       [0., 1., 0., 0., 0.],\n",
       "       [0., 0., 1., 0., 0.],\n",
       "       [0., 0., 0., 1., 0.],\n",
       "       [0., 0., 0., 0., 1.]])"
      ]
     },
     "execution_count": 12,
     "metadata": {},
     "output_type": "execute_result"
    }
   ],
   "source": [
    "arr5 = np.identity(5)\n",
    "arr5"
   ]
  },
  {
   "cell_type": "code",
   "execution_count": 14,
   "id": "50bcdad9-7cac-4db7-b825-7f82699319df",
   "metadata": {},
   "outputs": [
    {
     "data": {
      "text/plain": [
       "array([0, 1, 2, 3, 4, 5])"
      ]
     },
     "execution_count": 14,
     "metadata": {},
     "output_type": "execute_result"
    }
   ],
   "source": [
    "arr6 = np.arange(6)\n",
    "arr6"
   ]
  },
  {
   "cell_type": "code",
   "execution_count": 15,
   "id": "014abb5d-2696-43b8-a516-2f51b580c4aa",
   "metadata": {},
   "outputs": [
    {
     "data": {
      "text/plain": [
       "array([9, 6, 3])"
      ]
     },
     "execution_count": 15,
     "metadata": {},
     "output_type": "execute_result"
    }
   ],
   "source": [
    "arr7 = np.arange(9,0,-3)\n",
    "arr7"
   ]
  },
  {
   "cell_type": "code",
   "execution_count": 16,
   "id": "139b1859-68a2-4ef7-8b04-1f6501b4bee2",
   "metadata": {},
   "outputs": [
    {
     "data": {
      "text/plain": [
       "array([10.        , 11.11111111, 12.22222222, 13.33333333, 14.44444444,\n",
       "       15.55555556, 16.66666667, 17.77777778, 18.88888889, 20.        ])"
      ]
     },
     "execution_count": 16,
     "metadata": {},
     "output_type": "execute_result"
    }
   ],
   "source": [
    "arr8 = np.linspace(10,20,10)\n",
    "arr8"
   ]
  },
  {
   "cell_type": "code",
   "execution_count": 17,
   "id": "c1a19b01-88c9-4c89-8ff2-768036b36275",
   "metadata": {},
   "outputs": [
    {
     "data": {
      "text/plain": [
       "array([10.        , 11.11111111, 12.22222222, 13.33333333, 14.44444444,\n",
       "       15.55555556, 16.66666667, 17.77777778, 18.88888889, 20.        ])"
      ]
     },
     "execution_count": 17,
     "metadata": {},
     "output_type": "execute_result"
    }
   ],
   "source": [
    "arr9 = arr8\n",
    "arr9"
   ]
  },
  {
   "cell_type": "code",
   "execution_count": 18,
   "id": "01f8a073-5e44-478d-b958-06ade72036e1",
   "metadata": {},
   "outputs": [
    {
     "data": {
      "text/plain": [
       "2281505988720"
      ]
     },
     "execution_count": 18,
     "metadata": {},
     "output_type": "execute_result"
    }
   ],
   "source": [
    "id(arr9)"
   ]
  },
  {
   "cell_type": "code",
   "execution_count": 19,
   "id": "a6ec9d40-1f41-423f-b5cc-e5d064dd0da0",
   "metadata": {},
   "outputs": [
    {
     "data": {
      "text/plain": [
       "2281505988720"
      ]
     },
     "execution_count": 19,
     "metadata": {},
     "output_type": "execute_result"
    }
   ],
   "source": [
    "id(arr8)"
   ]
  },
  {
   "cell_type": "code",
   "execution_count": 21,
   "id": "34755e79-68b5-4648-ac4b-78e104da5617",
   "metadata": {},
   "outputs": [
    {
     "data": {
      "text/plain": [
       "array([10.        , 11.11111111, 12.22222222, 13.33333333, 14.44444444,\n",
       "       15.55555556, 16.66666667, 17.77777778, 18.88888889, 20.        ])"
      ]
     },
     "execution_count": 21,
     "metadata": {},
     "output_type": "execute_result"
    }
   ],
   "source": [
    "arr10 = arr8.copy()\n",
    "arr10"
   ]
  },
  {
   "cell_type": "code",
   "execution_count": 22,
   "id": "c2d3823e-f458-4615-be2c-53f87269c961",
   "metadata": {},
   "outputs": [
    {
     "data": {
      "text/plain": [
       "2281505988336"
      ]
     },
     "execution_count": 22,
     "metadata": {},
     "output_type": "execute_result"
    }
   ],
   "source": [
    "id(arr10)"
   ]
  },
  {
   "cell_type": "code",
   "execution_count": 24,
   "id": "b05894a7-663e-4345-a1e4-55556eb31dc7",
   "metadata": {},
   "outputs": [
    {
     "data": {
      "text/plain": [
       "(6,)"
      ]
     },
     "execution_count": 24,
     "metadata": {},
     "output_type": "execute_result"
    }
   ],
   "source": [
    "arr6.shape"
   ]
  },
  {
   "cell_type": "code",
   "execution_count": 26,
   "id": "adde73e2-366e-4d1b-8d88-c727932d1fe9",
   "metadata": {},
   "outputs": [
    {
     "data": {
      "text/plain": [
       "(5, 5)"
      ]
     },
     "execution_count": 26,
     "metadata": {},
     "output_type": "execute_result"
    }
   ],
   "source": [
    "arr5.shape"
   ]
  },
  {
   "cell_type": "code",
   "execution_count": 27,
   "id": "d516f662-bafb-4418-aa55-132c03d0880a",
   "metadata": {},
   "outputs": [
    {
     "data": {
      "text/plain": [
       "1"
      ]
     },
     "execution_count": 27,
     "metadata": {},
     "output_type": "execute_result"
    }
   ],
   "source": [
    "arr6.ndim"
   ]
  },
  {
   "cell_type": "code",
   "execution_count": 28,
   "id": "104b96cf-0b46-4b49-a91b-d72deaeb6bc4",
   "metadata": {},
   "outputs": [
    {
     "data": {
      "text/plain": [
       "2"
      ]
     },
     "execution_count": 28,
     "metadata": {},
     "output_type": "execute_result"
    }
   ],
   "source": [
    "arr5.ndim"
   ]
  },
  {
   "cell_type": "code",
   "execution_count": 29,
   "id": "d13a9da9-c117-4739-b9ce-c031c907c64c",
   "metadata": {},
   "outputs": [
    {
     "data": {
      "text/plain": [
       "6"
      ]
     },
     "execution_count": 29,
     "metadata": {},
     "output_type": "execute_result"
    }
   ],
   "source": [
    "arr6.size"
   ]
  },
  {
   "cell_type": "code",
   "execution_count": 30,
   "id": "34f56a63-7f6d-46a2-aae8-417b41f3ca6b",
   "metadata": {},
   "outputs": [
    {
     "data": {
      "text/plain": [
       "25"
      ]
     },
     "execution_count": 30,
     "metadata": {},
     "output_type": "execute_result"
    }
   ],
   "source": [
    "arr5.size"
   ]
  },
  {
   "cell_type": "code",
   "execution_count": 31,
   "id": "746bc29a-cb08-4cba-8d02-79caec16883a",
   "metadata": {},
   "outputs": [
    {
     "data": {
      "text/plain": [
       "array([0, 1, 2, 3, 4, 5])"
      ]
     },
     "execution_count": 31,
     "metadata": {},
     "output_type": "execute_result"
    }
   ],
   "source": [
    "arr6"
   ]
  },
  {
   "cell_type": "code",
   "execution_count": 37,
   "id": "84e323aa-b0e0-4dda-aacf-cc54c9b8a649",
   "metadata": {},
   "outputs": [
    {
     "data": {
      "text/plain": [
       "4"
      ]
     },
     "execution_count": 37,
     "metadata": {},
     "output_type": "execute_result"
    }
   ],
   "source": [
    "arr6.itemsize    # because elements are integer"
   ]
  },
  {
   "cell_type": "code",
   "execution_count": 38,
   "id": "ff8e8d21-f9a2-4716-872e-c155a6777b0c",
   "metadata": {},
   "outputs": [
    {
     "data": {
      "text/plain": [
       "array([[1., 0., 0., 0., 0.],\n",
       "       [0., 1., 0., 0., 0.],\n",
       "       [0., 0., 1., 0., 0.],\n",
       "       [0., 0., 0., 1., 0.],\n",
       "       [0., 0., 0., 0., 1.]])"
      ]
     },
     "execution_count": 38,
     "metadata": {},
     "output_type": "execute_result"
    }
   ],
   "source": [
    "arr5"
   ]
  },
  {
   "cell_type": "code",
   "execution_count": 39,
   "id": "16dfb91c-db9f-4ae3-b7e1-12a9bb020702",
   "metadata": {},
   "outputs": [
    {
     "data": {
      "text/plain": [
       "8"
      ]
     },
     "execution_count": 39,
     "metadata": {},
     "output_type": "execute_result"
    }
   ],
   "source": [
    "arr5.itemsize # because elements are float"
   ]
  },
  {
   "cell_type": "code",
   "execution_count": 40,
   "id": "a2fa44a5-30b0-4b44-ba74-ddcaa149a8aa",
   "metadata": {},
   "outputs": [
    {
     "data": {
      "text/plain": [
       "8"
      ]
     },
     "execution_count": 40,
     "metadata": {},
     "output_type": "execute_result"
    }
   ],
   "source": [
    "arr10.itemsize"
   ]
  },
  {
   "cell_type": "code",
   "execution_count": 41,
   "id": "95d5af4f-6bb6-47e8-9163-2fdcf6b77bd6",
   "metadata": {},
   "outputs": [
    {
     "data": {
      "text/plain": [
       "dtype('float64')"
      ]
     },
     "execution_count": 41,
     "metadata": {},
     "output_type": "execute_result"
    }
   ],
   "source": [
    "arr10.dtype"
   ]
  },
  {
   "cell_type": "code",
   "execution_count": 42,
   "id": "1d8e0db5-14ef-4bc1-9162-1acd24da826c",
   "metadata": {},
   "outputs": [
    {
     "data": {
      "text/plain": [
       "dtype('int32')"
      ]
     },
     "execution_count": 42,
     "metadata": {},
     "output_type": "execute_result"
    }
   ],
   "source": [
    "arr6.dtype"
   ]
  },
  {
   "cell_type": "code",
   "execution_count": 43,
   "id": "423c089e-e27f-4472-9fc1-a5baaac61a01",
   "metadata": {},
   "outputs": [
    {
     "data": {
      "text/plain": [
       "array([10, 11, 12, 13, 14, 15, 16, 17, 18, 20])"
      ]
     },
     "execution_count": 43,
     "metadata": {},
     "output_type": "execute_result"
    }
   ],
   "source": [
    "arr10.astype('int')"
   ]
  },
  {
   "cell_type": "code",
   "execution_count": 44,
   "id": "556f1f0c-cc77-4b94-9c4a-3529da07946a",
   "metadata": {},
   "outputs": [
    {
     "data": {
      "text/plain": [
       "array([10.        , 11.11111111, 12.22222222, 13.33333333, 14.44444444,\n",
       "       15.55555556, 16.66666667, 17.77777778, 18.88888889, 20.        ])"
      ]
     },
     "execution_count": 44,
     "metadata": {},
     "output_type": "execute_result"
    }
   ],
   "source": [
    "arr10"
   ]
  },
  {
   "cell_type": "code",
   "execution_count": 45,
   "id": "9e597638-acde-4c6e-8aad-7d0a534a8c4e",
   "metadata": {},
   "outputs": [
    {
     "data": {
      "text/plain": [
       "array([0, 1, 2, 3, 4, 5])"
      ]
     },
     "execution_count": 45,
     "metadata": {},
     "output_type": "execute_result"
    }
   ],
   "source": [
    "arr6"
   ]
  },
  {
   "cell_type": "code",
   "execution_count": 47,
   "id": "bc026eb3-67b2-48f5-8d2a-a1eebb563410",
   "metadata": {},
   "outputs": [
    {
     "data": {
      "text/plain": [
       "array([0., 1., 2., 3., 4., 5.])"
      ]
     },
     "execution_count": 47,
     "metadata": {},
     "output_type": "execute_result"
    }
   ],
   "source": [
    "arr6.astype('float')"
   ]
  },
  {
   "cell_type": "code",
   "execution_count": 49,
   "id": "473317a2-a913-4b4f-9b90-b18857e72944",
   "metadata": {},
   "outputs": [
    {
     "data": {
      "text/plain": [
       "array([[1, 0, 0, 0, 0],\n",
       "       [0, 1, 0, 0, 0],\n",
       "       [0, 0, 1, 0, 0],\n",
       "       [0, 0, 0, 1, 0],\n",
       "       [0, 0, 0, 0, 1]])"
      ]
     },
     "execution_count": 49,
     "metadata": {},
     "output_type": "execute_result"
    }
   ],
   "source": [
    "arr5.astype('int')"
   ]
  },
  {
   "cell_type": "code",
   "execution_count": 56,
   "id": "09b7b116-d5c1-402c-8557-4e32f5ee47cc",
   "metadata": {},
   "outputs": [
    {
     "data": {
      "text/plain": [
       "array([[ 0,  1,  2,  3],\n",
       "       [ 4,  5,  6,  7],\n",
       "       [ 8,  9, 10, 11],\n",
       "       [12, 13, 14, 15],\n",
       "       [16, 17, 18, 19],\n",
       "       [20, 21, 22, 23]])"
      ]
     },
     "execution_count": 56,
     "metadata": {},
     "output_type": "execute_result"
    }
   ],
   "source": [
    "arr11 = np.arange(24).reshape(6,4)\n",
    "arr11"
   ]
  },
  {
   "cell_type": "code",
   "execution_count": 58,
   "id": "0883b711-adb0-4a32-bb01-2f7c7be4558c",
   "metadata": {},
   "outputs": [
    {
     "data": {
      "text/plain": [
       "array([[ 2],\n",
       "       [ 6],\n",
       "       [10],\n",
       "       [14],\n",
       "       [18],\n",
       "       [22]])"
      ]
     },
     "execution_count": 58,
     "metadata": {},
     "output_type": "execute_result"
    }
   ],
   "source": [
    "arr11[:,2:3]"
   ]
  },
  {
   "cell_type": "code",
   "execution_count": 60,
   "id": "acb88a7e-7cdd-4f01-afd6-d7d0bb15132f",
   "metadata": {},
   "outputs": [
    {
     "data": {
      "text/plain": [
       "array([[18, 19],\n",
       "       [22, 23]])"
      ]
     },
     "execution_count": 60,
     "metadata": {},
     "output_type": "execute_result"
    }
   ],
   "source": [
    "arr11[4:,2:]"
   ]
  },
  {
   "cell_type": "code",
   "execution_count": 61,
   "id": "c4f6a113-792c-4d50-b02c-6ae42ebe1e38",
   "metadata": {},
   "outputs": [
    {
     "name": "stdout",
     "output_type": "stream",
     "text": [
      "[0 1 2 3]\n",
      "[4 5 6 7]\n",
      "[ 8  9 10 11]\n",
      "[12 13 14 15]\n",
      "[16 17 18 19]\n",
      "[20 21 22 23]\n"
     ]
    }
   ],
   "source": [
    "for i in arr11:\n",
    "    print(i)"
   ]
  },
  {
   "cell_type": "code",
   "execution_count": 62,
   "id": "4f3563c0-a1ae-4d02-a52e-dc444ee3fcd8",
   "metadata": {},
   "outputs": [
    {
     "name": "stdout",
     "output_type": "stream",
     "text": [
      "0\n",
      "1\n",
      "2\n",
      "3\n",
      "4\n",
      "5\n",
      "6\n",
      "7\n",
      "8\n",
      "9\n",
      "10\n",
      "11\n",
      "12\n",
      "13\n",
      "14\n",
      "15\n",
      "16\n",
      "17\n",
      "18\n",
      "19\n",
      "20\n",
      "21\n",
      "22\n",
      "23\n"
     ]
    }
   ],
   "source": [
    "for i in np.nditer(arr11):\n",
    "    print(i)"
   ]
  },
  {
   "cell_type": "code",
   "execution_count": 63,
   "id": "c9509f62-3b72-4d69-a54b-4566b2c62551",
   "metadata": {},
   "outputs": [],
   "source": [
    "ar1 = np.array([1,2,3,4,5])\n",
    "ar2 = np.array([3,4,5,6,7])\n"
   ]
  },
  {
   "cell_type": "code",
   "execution_count": 64,
   "id": "6869a0df-0f7c-4bfb-bb02-aed52b119cf2",
   "metadata": {},
   "outputs": [
    {
     "data": {
      "text/plain": [
       "array([-2, -2, -2, -2, -2])"
      ]
     },
     "execution_count": 64,
     "metadata": {},
     "output_type": "execute_result"
    }
   ],
   "source": [
    "ar1 - ar2"
   ]
  },
  {
   "cell_type": "code",
   "execution_count": 65,
   "id": "4b43efff-6272-49c9-9250-7f6aa35fe424",
   "metadata": {},
   "outputs": [
    {
     "data": {
      "text/plain": [
       "array([ 4,  6,  8, 10, 12])"
      ]
     },
     "execution_count": 65,
     "metadata": {},
     "output_type": "execute_result"
    }
   ],
   "source": [
    "ar1 + ar2"
   ]
  },
  {
   "cell_type": "code",
   "execution_count": 66,
   "id": "b97eda00-fcc8-4bd0-8123-dd30283b53c6",
   "metadata": {},
   "outputs": [
    {
     "data": {
      "text/plain": [
       "array([ 3,  8, 15, 24, 35])"
      ]
     },
     "execution_count": 66,
     "metadata": {},
     "output_type": "execute_result"
    }
   ],
   "source": [
    "ar1 * ar2"
   ]
  },
  {
   "cell_type": "code",
   "execution_count": 67,
   "id": "50c3741c-ba6f-4658-ba95-04cc493e6af0",
   "metadata": {},
   "outputs": [
    {
     "data": {
      "text/plain": [
       "array([ 2,  4,  6,  8, 10])"
      ]
     },
     "execution_count": 67,
     "metadata": {},
     "output_type": "execute_result"
    }
   ],
   "source": [
    "ar1 * 2"
   ]
  },
  {
   "cell_type": "code",
   "execution_count": 68,
   "id": "93f7ef37-eee4-42a9-9be5-cb1ef1e39745",
   "metadata": {},
   "outputs": [
    {
     "data": {
      "text/plain": [
       "array([ 1,  4,  9, 16, 25])"
      ]
     },
     "execution_count": 68,
     "metadata": {},
     "output_type": "execute_result"
    }
   ],
   "source": [
    "ar1 ** 2"
   ]
  },
  {
   "cell_type": "code",
   "execution_count": 69,
   "id": "7748212f-b402-423e-b479-cd777d2cfa78",
   "metadata": {},
   "outputs": [
    {
     "data": {
      "text/plain": [
       "array([False, False, False,  True,  True])"
      ]
     },
     "execution_count": 69,
     "metadata": {},
     "output_type": "execute_result"
    }
   ],
   "source": [
    "ar1 > 3"
   ]
  },
  {
   "cell_type": "code",
   "execution_count": 71,
   "id": "57eb45af-0fd0-47c6-a794-07b31c63a396",
   "metadata": {},
   "outputs": [],
   "source": [
    "ar3 = np.arange(6).reshape(2,3)\n",
    "ar4 = np.arange(6,12).reshape(3,2)"
   ]
  },
  {
   "cell_type": "code",
   "execution_count": 72,
   "id": "a9db94d3-b053-472f-bfb5-fbfd7b2ca301",
   "metadata": {},
   "outputs": [
    {
     "data": {
      "text/plain": [
       "array([[ 28,  31],\n",
       "       [100, 112]])"
      ]
     },
     "execution_count": 72,
     "metadata": {},
     "output_type": "execute_result"
    }
   ],
   "source": [
    "ar3.dot(ar4)"
   ]
  },
  {
   "cell_type": "code",
   "execution_count": 73,
   "id": "4685fcdb-c5c1-4b22-b6db-070c861e807e",
   "metadata": {},
   "outputs": [
    {
     "data": {
      "text/plain": [
       "1"
      ]
     },
     "execution_count": 73,
     "metadata": {},
     "output_type": "execute_result"
    }
   ],
   "source": [
    "ar1.min()"
   ]
  },
  {
   "cell_type": "code",
   "execution_count": 74,
   "id": "cd1f8fe7-b27f-415f-9b12-3618eb9a936e",
   "metadata": {},
   "outputs": [
    {
     "data": {
      "text/plain": [
       "5"
      ]
     },
     "execution_count": 74,
     "metadata": {},
     "output_type": "execute_result"
    }
   ],
   "source": [
    "ar1.max()"
   ]
  },
  {
   "cell_type": "code",
   "execution_count": 76,
   "id": "2a91a28a-67f5-41bf-93fa-5561ec242df8",
   "metadata": {},
   "outputs": [
    {
     "data": {
      "text/plain": [
       "array([[ 6,  7],\n",
       "       [ 8,  9],\n",
       "       [10, 11]])"
      ]
     },
     "execution_count": 76,
     "metadata": {},
     "output_type": "execute_result"
    }
   ],
   "source": [
    "ar4"
   ]
  },
  {
   "cell_type": "code",
   "execution_count": 77,
   "id": "f3739d73-354a-4966-b51a-3ac9eb560792",
   "metadata": {},
   "outputs": [
    {
     "data": {
      "text/plain": [
       "array([6, 7])"
      ]
     },
     "execution_count": 77,
     "metadata": {},
     "output_type": "execute_result"
    }
   ],
   "source": [
    "ar4.min(axis=0)"
   ]
  },
  {
   "cell_type": "code",
   "execution_count": 78,
   "id": "cb96cfbb-4c1c-4571-81d0-3643d06b9ddf",
   "metadata": {},
   "outputs": [
    {
     "data": {
      "text/plain": [
       "array([ 6,  8, 10])"
      ]
     },
     "execution_count": 78,
     "metadata": {},
     "output_type": "execute_result"
    }
   ],
   "source": [
    "ar4.min(axis=1)"
   ]
  },
  {
   "cell_type": "code",
   "execution_count": 79,
   "id": "730b1cb3-bf66-46e6-a8bb-ac35f33aa8c2",
   "metadata": {},
   "outputs": [
    {
     "data": {
      "text/plain": [
       "51"
      ]
     },
     "execution_count": 79,
     "metadata": {},
     "output_type": "execute_result"
    }
   ],
   "source": [
    "ar4.sum()"
   ]
  },
  {
   "cell_type": "code",
   "execution_count": 80,
   "id": "b19d5277-3773-47ec-abef-00926af5cb1b",
   "metadata": {},
   "outputs": [
    {
     "data": {
      "text/plain": [
       "8.5"
      ]
     },
     "execution_count": 80,
     "metadata": {},
     "output_type": "execute_result"
    }
   ],
   "source": [
    "ar4.mean()"
   ]
  },
  {
   "cell_type": "code",
   "execution_count": 81,
   "id": "17027333-ed19-45c4-8258-c851f149c22a",
   "metadata": {},
   "outputs": [
    {
     "data": {
      "text/plain": [
       "1.707825127659933"
      ]
     },
     "execution_count": 81,
     "metadata": {},
     "output_type": "execute_result"
    }
   ],
   "source": [
    "ar4.std()"
   ]
  },
  {
   "cell_type": "code",
   "execution_count": 82,
   "id": "72c11c9d-2fda-4def-80fb-1d9e02fef374",
   "metadata": {},
   "outputs": [
    {
     "data": {
      "text/plain": [
       "array([[-0.2794155 ,  0.6569866 ],\n",
       "       [ 0.98935825,  0.41211849],\n",
       "       [-0.54402111, -0.99999021]])"
      ]
     },
     "execution_count": 82,
     "metadata": {},
     "output_type": "execute_result"
    }
   ],
   "source": [
    "np.sin(ar4)"
   ]
  },
  {
   "cell_type": "code",
   "execution_count": 83,
   "id": "43f628cf-c573-4659-b375-9077fc7af2fa",
   "metadata": {},
   "outputs": [
    {
     "data": {
      "text/plain": [
       "8.5"
      ]
     },
     "execution_count": 83,
     "metadata": {},
     "output_type": "execute_result"
    }
   ],
   "source": [
    "np.median(ar4)"
   ]
  },
  {
   "cell_type": "code",
   "execution_count": 84,
   "id": "136d3785-5b6d-4cba-a872-bd041fb22ede",
   "metadata": {},
   "outputs": [
    {
     "data": {
      "text/plain": [
       "array([[  403.42879349,  1096.63315843],\n",
       "       [ 2980.95798704,  8103.08392758],\n",
       "       [22026.46579481, 59874.1417152 ]])"
      ]
     },
     "execution_count": 84,
     "metadata": {},
     "output_type": "execute_result"
    }
   ],
   "source": [
    "np.exp(ar4)"
   ]
  },
  {
   "cell_type": "code",
   "execution_count": 85,
   "id": "94f1de0f-3343-45b5-a517-5d6d6381045e",
   "metadata": {},
   "outputs": [
    {
     "data": {
      "text/plain": [
       "array([[ 6,  7],\n",
       "       [ 8,  9],\n",
       "       [10, 11]])"
      ]
     },
     "execution_count": 85,
     "metadata": {},
     "output_type": "execute_result"
    }
   ],
   "source": [
    "ar4"
   ]
  },
  {
   "cell_type": "code",
   "execution_count": 86,
   "id": "70cb509f-d577-4e4a-8f07-b0c2fc1c28a4",
   "metadata": {},
   "outputs": [
    {
     "data": {
      "text/plain": [
       "array([ 6,  7,  8,  9, 10, 11])"
      ]
     },
     "execution_count": 86,
     "metadata": {},
     "output_type": "execute_result"
    }
   ],
   "source": [
    "ar4.ravel()"
   ]
  },
  {
   "cell_type": "code",
   "execution_count": 87,
   "id": "60d6c2c9-994b-456c-92ca-0ba6f504dcc7",
   "metadata": {},
   "outputs": [
    {
     "data": {
      "text/plain": [
       "array([[ 6,  8, 10],\n",
       "       [ 7,  9, 11]])"
      ]
     },
     "execution_count": 87,
     "metadata": {},
     "output_type": "execute_result"
    }
   ],
   "source": [
    "ar4.transpose()"
   ]
  },
  {
   "cell_type": "code",
   "execution_count": 88,
   "id": "a81fe731-9322-4101-963c-c768381ebfc4",
   "metadata": {},
   "outputs": [
    {
     "data": {
      "text/plain": [
       "array([[ 6,  7],\n",
       "       [ 8,  9],\n",
       "       [10, 11]])"
      ]
     },
     "execution_count": 88,
     "metadata": {},
     "output_type": "execute_result"
    }
   ],
   "source": [
    "ar4"
   ]
  },
  {
   "cell_type": "code",
   "execution_count": 90,
   "id": "b8bad0fd-3013-4245-bd12-795927b89663",
   "metadata": {},
   "outputs": [
    {
     "data": {
      "text/plain": [
       "array([[12, 13],\n",
       "       [14, 15],\n",
       "       [16, 17]])"
      ]
     },
     "execution_count": 90,
     "metadata": {},
     "output_type": "execute_result"
    }
   ],
   "source": [
    "ar5 = np.arange(12,18).reshape(3,2)\n",
    "ar5"
   ]
  },
  {
   "cell_type": "code",
   "execution_count": 91,
   "id": "56e9697b-e7b2-44e7-bb9b-77e84c68ef16",
   "metadata": {},
   "outputs": [
    {
     "data": {
      "text/plain": [
       "array([[ 6,  7, 12, 13],\n",
       "       [ 8,  9, 14, 15],\n",
       "       [10, 11, 16, 17]])"
      ]
     },
     "execution_count": 91,
     "metadata": {},
     "output_type": "execute_result"
    }
   ],
   "source": [
    "np.hstack((ar4,ar5))"
   ]
  },
  {
   "cell_type": "code",
   "execution_count": 92,
   "id": "97fd4102-a80b-4d43-ae3f-1c63618e7588",
   "metadata": {},
   "outputs": [
    {
     "data": {
      "text/plain": [
       "array([[ 6,  7],\n",
       "       [ 8,  9],\n",
       "       [10, 11],\n",
       "       [12, 13],\n",
       "       [14, 15],\n",
       "       [16, 17]])"
      ]
     },
     "execution_count": 92,
     "metadata": {},
     "output_type": "execute_result"
    }
   ],
   "source": [
    "np.vstack((ar4,ar5))"
   ]
  },
  {
   "cell_type": "code",
   "execution_count": 93,
   "id": "12fe5e33-1acc-444c-8c72-84fd0bd365d1",
   "metadata": {},
   "outputs": [
    {
     "data": {
      "text/plain": [
       "array([[0, 1, 2],\n",
       "       [3, 4, 5]])"
      ]
     },
     "execution_count": 93,
     "metadata": {},
     "output_type": "execute_result"
    }
   ],
   "source": [
    "ar3"
   ]
  },
  {
   "cell_type": "code",
   "execution_count": 94,
   "id": "ad79fc72-ce1b-49c7-99e9-f5e78652b103",
   "metadata": {},
   "outputs": [
    {
     "data": {
      "text/plain": [
       "[array([[0],\n",
       "        [3]]),\n",
       " array([[1],\n",
       "        [4]]),\n",
       " array([[2],\n",
       "        [5]])]"
      ]
     },
     "execution_count": 94,
     "metadata": {},
     "output_type": "execute_result"
    }
   ],
   "source": [
    "np.hsplit(ar3,3)"
   ]
  },
  {
   "cell_type": "code",
   "execution_count": 95,
   "id": "9bd67b62-a16b-4fd4-aaf1-4b5ceac15949",
   "metadata": {},
   "outputs": [
    {
     "data": {
      "text/plain": [
       "[array([[0, 1, 2]]), array([[3, 4, 5]])]"
      ]
     },
     "execution_count": 95,
     "metadata": {},
     "output_type": "execute_result"
    }
   ],
   "source": [
    "np.vsplit(ar3,2)"
   ]
  },
  {
   "cell_type": "code",
   "execution_count": 99,
   "id": "6baaf0d5-4815-4226-87d0-78fa331eaf11",
   "metadata": {},
   "outputs": [
    {
     "data": {
      "text/plain": [
       "array([[ 0,  1,  2,  3],\n",
       "       [ 4,  5,  6,  7],\n",
       "       [ 8,  9, 10, 11],\n",
       "       [12, 13, 14, 15],\n",
       "       [16, 17, 18, 19],\n",
       "       [20, 21, 22, 23]])"
      ]
     },
     "execution_count": 99,
     "metadata": {},
     "output_type": "execute_result"
    }
   ],
   "source": [
    "arr11"
   ]
  },
  {
   "cell_type": "code",
   "execution_count": 102,
   "id": "3b3133de-afe3-41c5-8472-27bad9af8c4c",
   "metadata": {},
   "outputs": [
    {
     "data": {
      "text/plain": [
       "array([[ 0,  1,  2,  3],\n",
       "       [ 8,  9, 10, 11],\n",
       "       [16, 17, 18, 19]])"
      ]
     },
     "execution_count": 102,
     "metadata": {},
     "output_type": "execute_result"
    }
   ],
   "source": [
    "arr11[[0,2,4]]"
   ]
  },
  {
   "cell_type": "code",
   "execution_count": 104,
   "id": "c7fc71be-09e3-48a7-9e77-a580d17a8f14",
   "metadata": {},
   "outputs": [
    {
     "data": {
      "text/plain": [
       "array([[63, 67, 38, 57, 38],\n",
       "       [70, 16, 64,  6, 97],\n",
       "       [ 2, 19, 19, 83,  4],\n",
       "       [ 9, 53, 50, 39, 74]])"
      ]
     },
     "execution_count": 104,
     "metadata": {},
     "output_type": "execute_result"
    }
   ],
   "source": [
    "arr12 = np.random.randint(low=1,high=100,size=20).reshape(4,5)\n",
    "arr12"
   ]
  },
  {
   "cell_type": "code",
   "execution_count": 105,
   "id": "7741458e-ee3b-49f3-ae04-e8c1dd8c0c9b",
   "metadata": {},
   "outputs": [
    {
     "data": {
      "text/plain": [
       "array([63, 67, 57, 70, 64, 97, 83, 53, 74])"
      ]
     },
     "execution_count": 105,
     "metadata": {},
     "output_type": "execute_result"
    }
   ],
   "source": [
    "arr12[arr12>50]"
   ]
  },
  {
   "cell_type": "code",
   "execution_count": 107,
   "id": "fdd78736-ac84-4405-a2ab-67b722736d89",
   "metadata": {},
   "outputs": [
    {
     "data": {
      "text/plain": [
       "array([[[70, 16, 64,  6, 97],\n",
       "        [70, 16, 64,  6, 97],\n",
       "        [63, 67, 38, 57, 38],\n",
       "        [70, 16, 64,  6, 97],\n",
       "        [63, 67, 38, 57, 38]],\n",
       "\n",
       "       [[63, 67, 38, 57, 38],\n",
       "        [63, 67, 38, 57, 38],\n",
       "        [63, 67, 38, 57, 38],\n",
       "        [63, 67, 38, 57, 38],\n",
       "        [70, 16, 64,  6, 97]],\n",
       "\n",
       "       [[63, 67, 38, 57, 38],\n",
       "        [63, 67, 38, 57, 38],\n",
       "        [63, 67, 38, 57, 38],\n",
       "        [70, 16, 64,  6, 97],\n",
       "        [63, 67, 38, 57, 38]],\n",
       "\n",
       "       [[63, 67, 38, 57, 38],\n",
       "        [70, 16, 64,  6, 97],\n",
       "        [63, 67, 38, 57, 38],\n",
       "        [63, 67, 38, 57, 38],\n",
       "        [63, 67, 38, 57, 38]]])"
      ]
     },
     "execution_count": 107,
     "metadata": {},
     "output_type": "execute_result"
    }
   ],
   "source": [
    "arr12[(arr12>50) & (arr12%2)]"
   ]
  },
  {
   "cell_type": "code",
   "execution_count": null,
   "id": "81cdad6f-81c4-4a25-a0b6-b0d89bb4e87a",
   "metadata": {},
   "outputs": [],
   "source": []
  }
 ],
 "metadata": {
  "kernelspec": {
   "display_name": "Python 3 (ipykernel)",
   "language": "python",
   "name": "python3"
  },
  "language_info": {
   "codemirror_mode": {
    "name": "ipython",
    "version": 3
   },
   "file_extension": ".py",
   "mimetype": "text/x-python",
   "name": "python",
   "nbconvert_exporter": "python",
   "pygments_lexer": "ipython3",
   "version": "3.12.2"
  }
 },
 "nbformat": 4,
 "nbformat_minor": 5
}
